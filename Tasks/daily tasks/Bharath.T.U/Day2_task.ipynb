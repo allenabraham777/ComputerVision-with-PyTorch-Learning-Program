{
 "cells": [
  {
   "cell_type": "code",
   "execution_count": 1,
   "metadata": {},
   "outputs": [],
   "source": [
    "#importing needed packages\n",
    "import torch \n",
    "import numpy as np"
   ]
  },
  {
   "cell_type": "code",
   "execution_count": 2,
   "metadata": {},
   "outputs": [
    {
     "name": "stdout",
     "output_type": "stream",
     "text": [
      "first numpy array \"a\" with size (5, 3) is :-\n",
      "[[ 1.62434536 -0.61175641 -0.52817175]\n",
      " [-1.07296862  0.86540763 -2.3015387 ]\n",
      " [ 1.74481176 -0.7612069   0.3190391 ]\n",
      " [-0.24937038  1.46210794 -2.06014071]\n",
      " [-0.3224172  -0.38405435  1.13376944]]\n",
      "second numpy array\"b\" with size (3, 4) is :-\n",
      "[[-1.09989127 -0.17242821 -0.87785842  0.04221375]\n",
      " [ 0.58281521 -1.10061918  1.14472371  0.90159072]\n",
      " [ 0.50249434  0.90085595 -0.68372786 -0.12289023]]\n"
     ]
    }
   ],
   "source": [
    "#1st part\n",
    "np.random.seed(1)\n",
    "a=np.random.randn(5,3)\n",
    "b=np.random.randn(3,4)\n",
    "print(\"first numpy array \\\"a\\\" with size {} is :-\\n{}\".format(a.shape,a))\n",
    "print(\"second numpy array\\\"b\\\" with size {} is :-\\n{}\".format(b.shape,b))"
   ]
  },
  {
   "cell_type": "code",
   "execution_count": 3,
   "metadata": {},
   "outputs": [
    {
     "name": "stdout",
     "output_type": "stream",
     "text": [
      "tensor of a:-\n",
      "tensor([[ 1.6243, -0.6118, -0.5282],\n",
      "        [-1.0730,  0.8654, -2.3015],\n",
      "        [ 1.7448, -0.7612,  0.3190],\n",
      "        [-0.2494,  1.4621, -2.0601],\n",
      "        [-0.3224, -0.3841,  1.1338]], dtype=torch.float64)\n",
      "tensor of b:-\n",
      "tensor([[-1.0999, -0.1724, -0.8779,  0.0422],\n",
      "        [ 0.5828, -1.1006,  1.1447,  0.9016],\n",
      "        [ 0.5025,  0.9009, -0.6837, -0.1229]], dtype=torch.float64)\n"
     ]
    }
   ],
   "source": [
    "#2nd part\n",
    "ta=torch.from_numpy(a)\n",
    "tb=torch.from_numpy(b)\n",
    "print(\"tensor of a:-\\n{}\".format(ta))\n",
    "print(\"tensor of b:-\\n{}\".format(tb))"
   ]
  },
  {
   "cell_type": "code",
   "execution_count": 5,
   "metadata": {},
   "outputs": [
    {
     "name": "stdout",
     "output_type": "stream",
     "text": [
      "Dot product of ta and tb(ta.tb)\n",
      " tensor([[-2.4085, -0.0826, -1.7651, -0.4181],\n",
      "        [ 0.5280, -2.8408,  3.5062,  1.0178],\n",
      "        [-2.2024,  0.8244, -2.6212, -0.6518],\n",
      "        [ 0.0912, -3.4221,  3.3012,  1.5609],\n",
      "        [ 0.7005,  1.4997, -0.9318, -0.4992]], dtype=torch.float64)\n"
     ]
    }
   ],
   "source": [
    "#3rd part\n",
    "mul=torch.matmul(ta,tb)\n",
    "print(\"Dot product of ta and tb(ta.tb)\\n\",mul)"
   ]
  }
 ],
 "metadata": {
  "kernelspec": {
   "display_name": "Python 3",
   "language": "python",
   "name": "python3"
  },
  "language_info": {
   "codemirror_mode": {
    "name": "ipython",
    "version": 3
   },
   "file_extension": ".py",
   "mimetype": "text/x-python",
   "name": "python",
   "nbconvert_exporter": "python",
   "pygments_lexer": "ipython3",
   "version": "3.7.6"
  }
 },
 "nbformat": 4,
 "nbformat_minor": 4
}
